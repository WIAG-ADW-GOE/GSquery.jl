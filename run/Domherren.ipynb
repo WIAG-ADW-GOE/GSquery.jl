{
 "cells": [
  {
   "cell_type": "markdown",
   "metadata": {},
   "source": [
    "# Abfrage gegen das Digitale Personenregister"
   ]
  },
  {
   "cell_type": "markdown",
   "metadata": {},
   "source": [
    "*2022-02-10* Quelle: Domherren, GS_Domherren_DB.accdb = MySQL-Datenbank `domherr`"
   ]
  },
  {
   "cell_type": "code",
   "execution_count": 1,
   "metadata": {},
   "outputs": [],
   "source": [
    "cd(\"C:/Users/georg/Documents/projekte/GSquery\")"
   ]
  },
  {
   "cell_type": "code",
   "execution_count": 2,
   "metadata": {},
   "outputs": [],
   "source": [
    "using Pkg"
   ]
  },
  {
   "cell_type": "code",
   "execution_count": 3,
   "metadata": {},
   "outputs": [
    {
     "name": "stderr",
     "output_type": "stream",
     "text": [
      "\u001b[32m\u001b[1m  Activating\u001b[22m\u001b[39m project at `C:\\Users\\georg\\Documents\\projekte\\GSquery`\n"
     ]
    }
   ],
   "source": [
    "Pkg.activate(\".\")"
   ]
  },
  {
   "cell_type": "code",
   "execution_count": 4,
   "metadata": {},
   "outputs": [],
   "source": [
    "using MySQL, DataFrames"
   ]
  },
  {
   "cell_type": "code",
   "execution_count": 5,
   "metadata": {},
   "outputs": [],
   "source": [
    "using Revise"
   ]
  },
  {
   "cell_type": "code",
   "execution_count": 6,
   "metadata": {},
   "outputs": [],
   "source": [
    "using GSquery"
   ]
  },
  {
   "cell_type": "markdown",
   "metadata": {},
   "source": [
    "Funktionen zur Interaktion mit einer Datenbank"
   ]
  },
  {
   "cell_type": "code",
   "execution_count": 7,
   "metadata": {},
   "outputs": [
    {
     "data": {
      "text/plain": [
       "sql_df"
      ]
     },
     "execution_count": 7,
     "metadata": {},
     "output_type": "execute_result"
    }
   ],
   "source": [
    "dbwiag = nothing\n",
    "\n",
    "function setDBWIAG(;pwd = missing, host = \"127.0.0.1\", user = \"wiag\", db = \"wiag\")\n",
    "    global dbwiag\n",
    "    if !isnothing(dbwiag)\n",
    "        DBInterface.close!(dbwiag)\n",
    "    end\n",
    "\n",
    "    if ismissing(pwd)\n",
    "        io_pwd = Base.getpass(\"Passwort für User \" * user)\n",
    "        pwd = readline(io_pwd)\n",
    "        Base.shred!(io_pwd)\n",
    "    end\n",
    "    dbwiag = DBInterface.connect(MySQL.Connection, host, user, pwd, db = db)\n",
    "end\n",
    "\n",
    "\"\"\"\n",
    "    sql_df(sql)\n",
    "\n",
    "execute the commands in `sql` and return a DataFrame\n",
    "\"\"\"\n",
    "sql_df(sql) = DBInterface.execute(dbwiag, sql) |> DataFrame"
   ]
  },
  {
   "cell_type": "code",
   "execution_count": 8,
   "metadata": {},
   "outputs": [
    {
     "name": "stdout",
     "output_type": "stream",
     "text": [
      "Passwort für User georg: ········\n"
     ]
    },
    {
     "data": {
      "text/plain": [
       "MySQL.Connection(host=\"127.0.0.1\", user=\"georg\", port=\"3306\", db=\"domherr\")"
      ]
     },
     "execution_count": 8,
     "metadata": {},
     "output_type": "execute_result"
    }
   ],
   "source": [
    "setDBWIAG(user = \"georg\", db = \"domherr\")"
   ]
  },
  {
   "cell_type": "code",
   "execution_count": 9,
   "metadata": {},
   "outputs": [],
   "source": [
    "table_name = \"tbl_domherren\"\n",
    "sql = \"SELECT ID_Domherr, Vorname, Praefix, Familienname, Sterbedatum, Geburtsdatum, GSN_ID, GND_ID\n",
    "FROM $(table_name)\n",
    "WHERE Status in ('fertig', 'online')\";\n",
    "df_cn = sql_df(sql);"
   ]
  },
  {
   "cell_type": "code",
   "execution_count": 10,
   "metadata": {},
   "outputs": [
    {
     "data": {
      "text/plain": [
       "(6161, 8)"
      ]
     },
     "execution_count": 10,
     "metadata": {},
     "output_type": "execute_result"
    }
   ],
   "source": [
    "size(df_cn)"
   ]
  },
  {
   "cell_type": "code",
   "execution_count": 11,
   "metadata": {},
   "outputs": [],
   "source": [
    "table_name = \"tbl_domherren_aemter\";\n",
    "table_occ_norm = \"tbl_aemterliste_normiert\";\n",
    "sql = \"SELECT ID_Domherr, Amtsart AS Amtsart_orig, occn.AmtNorm AS Amtsart \n",
    "FROM $(table_name) AS occ \n",
    "JOIN $(table_occ_norm) AS occn ON occ.ID_Amt_norm = occn.id_amt_norm\";\n",
    "dfocc = sql_df(sql);"
   ]
  },
  {
   "cell_type": "code",
   "execution_count": 12,
   "metadata": {},
   "outputs": [
    {
     "data": {
      "text/plain": [
       ":ID_Domherr"
      ]
     },
     "execution_count": 12,
     "metadata": {},
     "output_type": "execute_result"
    }
   ],
   "source": [
    "GSquery.setcolnameid(\"ID_Domherr\")"
   ]
  },
  {
   "cell_type": "code",
   "execution_count": 13,
   "metadata": {},
   "outputs": [
    {
     "data": {
      "text/plain": [
       "GSquery.QRecord(Dict{String, Any}(\"zeitguete\" => 0, \"muster\" => \"vn ae ab ao\"))"
      ]
     },
     "execution_count": 13,
     "metadata": {},
     "output_type": "execute_result"
    }
   ],
   "source": [
    "GSquery.setminmatchkey()"
   ]
  },
  {
   "cell_type": "code",
   "execution_count": 46,
   "metadata": {},
   "outputs": [
    {
     "data": {
      "text/plain": [
       "11-element Vector{Pair{String, Int64}}:\n",
       " \"sd vn ao at\" => 55\n",
       " \"sd ae ab ao\" => 56\n",
       " \"sd ae ab at\" => 57\n",
       " \"sd ae ao at\" => 58\n",
       " \"sd ab ao at\" => 59\n",
       " \"vn ae ab ao\" => 60\n",
       " \"vn ae ab at\" => 61\n",
       " \"vn ae ao at\" => 62\n",
       " \"vn ab ao at\" => 63\n",
       " \"ae ab ao at\" => 64\n",
       "    \"fn sd vn\" => 65"
      ]
     },
     "execution_count": 46,
     "metadata": {},
     "output_type": "execute_result"
    }
   ],
   "source": [
    "GSquery.Rank.setdrank()\n",
    "GSquery.Rank.ranklist()[55:65]"
   ]
  },
  {
   "cell_type": "markdown",
   "metadata": {},
   "source": [
    "Sortiere die Muster so, dass Kombinationen aus Name und Zeitstellung hoch bewertet werden."
   ]
  },
  {
   "cell_type": "code",
   "execution_count": 40,
   "metadata": {},
   "outputs": [],
   "source": [
    "rl = GSquery.Rank.ranklist()\n",
    "df_rank = DataFrame(rank = [p.first for p in rl], key = [p.second for p in rl]);"
   ]
  },
  {
   "cell_type": "code",
   "execution_count": 42,
   "metadata": {},
   "outputs": [
    {
     "data": {
      "text/plain": [
       "\"C:\\\\Users\\\\georg\\\\Documents\\\\projekte-doc\\\\GS-Reconcile\\\\Rangfolge-Muster.csv\""
      ]
     },
     "execution_count": 42,
     "metadata": {},
     "output_type": "execute_result"
    }
   ],
   "source": [
    "filename = \"C:\\\\Users\\\\georg\\\\Documents\\\\projekte-doc\\\\GS-Reconcile\\\\Rangfolge-Muster.csv\"\n",
    "CSV.write(filename, df_rank)"
   ]
  },
  {
   "cell_type": "code",
   "execution_count": 54,
   "metadata": {},
   "outputs": [
    {
     "name": "stderr",
     "output_type": "stream",
     "text": [
      "┌ Info: Lies Übereinstimmungsmuster aus \n",
      "│   fileranks = C:\\Users\\georg\\Documents\\projekte-doc\\GS-Reconcile\\Rangfolge-Muster-angepasst.csv\n",
      "└ @ GSquery.Rank C:\\Users\\georg\\Documents\\projekte\\GSquery\\src\\GSquery.jl:234\n"
     ]
    }
   ],
   "source": [
    "filename = \"C:\\\\Users\\\\georg\\\\Documents\\\\projekte-doc\\\\GS-Reconcile\\\\Rangfolge-Muster-angepasst.csv\"\n",
    "GSquery.Rank.setdrank(filename)"
   ]
  },
  {
   "cell_type": "code",
   "execution_count": 57,
   "metadata": {},
   "outputs": [
    {
     "data": {
      "text/plain": [
       "11-element Vector{Pair{String, Int64}}:\n",
       "          \"fn ae\" => 80\n",
       "          \"fn ab\" => 81\n",
       "          \"sd vn\" => 82\n",
       "          \"vn ae\" => 83\n",
       "          \"vn ab\" => 84\n",
       "       \"fn vn ao\" => 85\n",
       "       \"fn vn at\" => 86\n",
       "       \"fn ao at\" => 87\n",
       " \"sd ae ab ao at\" => 88\n",
       "    \"sd ae ab ao\" => 89\n",
       "    \"sd ae ab at\" => 90"
      ]
     },
     "execution_count": 57,
     "metadata": {},
     "output_type": "execute_result"
    }
   ],
   "source": [
    "GSquery.Rank.ranklist()[80:90]"
   ]
  },
  {
   "cell_type": "code",
   "execution_count": 58,
   "metadata": {},
   "outputs": [
    {
     "data": {
      "text/plain": [
       "GSquery.QRecord(Dict{String, Any}(\"zeitguete\" => 0, \"muster\" => \"vn ab\"))"
      ]
     },
     "execution_count": 58,
     "metadata": {},
     "output_type": "execute_result"
    }
   ],
   "source": [
    "GSquery.setminmatchkey(\"vn ab\")"
   ]
  },
  {
   "cell_type": "code",
   "execution_count": 59,
   "metadata": {},
   "outputs": [
    {
     "data": {
      "text/plain": [
       "84"
      ]
     },
     "execution_count": 59,
     "metadata": {},
     "output_type": "execute_result"
    }
   ],
   "source": [
    "GSquery.Rank.getrank(\"vn ab\")"
   ]
  },
  {
   "cell_type": "markdown",
   "metadata": {},
   "source": [
    "Schließe keine Ämter von dem Vergleich aus."
   ]
  },
  {
   "cell_type": "code",
   "execution_count": 60,
   "metadata": {},
   "outputs": [
    {
     "data": {
      "text/plain": [
       "String[]"
      ]
     },
     "execution_count": 60,
     "metadata": {},
     "output_type": "execute_result"
    }
   ],
   "source": [
    "GSquery.GSOcc.setoccupations(String[])"
   ]
  },
  {
   "cell_type": "markdown",
   "metadata": {},
   "source": [
    "Die Ämter sind alle einem Amt in `tbl_aemterliste_normiert` zugeordnet, damit ist ein Mapping für die Abfrage mit `GSOcc.setequivalentoccupations` nicht nötig."
   ]
  },
  {
   "cell_type": "markdown",
   "metadata": {},
   "source": [
    "Abfrage"
   ]
  },
  {
   "cell_type": "code",
   "execution_count": 61,
   "metadata": {},
   "outputs": [],
   "source": [
    "df_gs = GSquery.makeGSDataFrame(df_cn);"
   ]
  },
  {
   "cell_type": "code",
   "execution_count": 34,
   "metadata": {},
   "outputs": [],
   "source": [
    "names(df_gs);"
   ]
  },
  {
   "cell_type": "markdown",
   "metadata": {},
   "source": [
    "Auswahl für einen Test"
   ]
  },
  {
   "cell_type": "code",
   "execution_count": 15,
   "metadata": {},
   "outputs": [],
   "source": [
    "using Random"
   ]
  },
  {
   "cell_type": "code",
   "execution_count": 16,
   "metadata": {},
   "outputs": [],
   "source": [
    "idx = randsubseq(1:size(df_gs, 1), 0.015);"
   ]
  },
  {
   "cell_type": "code",
   "execution_count": 17,
   "metadata": {},
   "outputs": [
    {
     "data": {
      "text/plain": [
       "(96,)"
      ]
     },
     "execution_count": 17,
     "metadata": {},
     "output_type": "execute_result"
    }
   ],
   "source": [
    "size(idx)"
   ]
  },
  {
   "cell_type": "code",
   "execution_count": 62,
   "metadata": {},
   "outputs": [],
   "source": [
    "df_gs_t1 = df_gs[idx, :];"
   ]
  },
  {
   "cell_type": "code",
   "execution_count": 19,
   "metadata": {},
   "outputs": [
    {
     "data": {
      "text/plain": [
       "2-element Vector{Symbol}:\n",
       " :Vorname\n",
       " :Familienname"
      ]
     },
     "execution_count": 19,
     "metadata": {},
     "output_type": "execute_result"
    }
   ],
   "source": [
    "querycols = [:Vorname, :Familienname]"
   ]
  },
  {
   "cell_type": "code",
   "execution_count": 63,
   "metadata": {},
   "outputs": [
    {
     "name": "stdout",
     "output_type": "stream",
     "text": [
      "Datensatz: 20\n",
      "Datensatz: 40\n",
      "Datensatz: 60\n",
      "Datensatz: 80\n"
     ]
    },
    {
     "name": "stderr",
     "output_type": "stream",
     "text": [
      "┌ Info: Level:\n",
      "│   minkey = vn ab\n",
      "│   minrank = 84\n",
      "└ @ GSquery C:\\Users\\georg\\Documents\\projekte\\GSquery\\src\\GSquery.jl:454\n",
      "┌ Info: Gültige Ämter\n",
      "│   GSOcc.occupations = String[]\n",
      "└ @ GSquery C:\\Users\\georg\\Documents\\projekte\\GSquery\\src\\GSquery.jl:455\n",
      "┌ Info: Abfragespalten\n",
      "│   querycols = [:Vorname, :Familienname]\n",
      "└ @ GSquery C:\\Users\\georg\\Documents\\projekte\\GSquery\\src\\GSquery.jl:456\n"
     ]
    },
    {
     "data": {
      "text/plain": [
       "2-element Vector{Pair{Int64, Int64}}:\n",
       " 0 => 91\n",
       " 1 => 5"
      ]
     },
     "execution_count": 63,
     "metadata": {},
     "output_type": "execute_result"
    }
   ],
   "source": [
    "GSquery.reconcile!(df_gs_t1, querycols, dfocc; nmsg = 20, toldateofdeath = 2, toloccupation = 2)"
   ]
  },
  {
   "cell_type": "code",
   "execution_count": 22,
   "metadata": {},
   "outputs": [],
   "source": [
    "using CSV"
   ]
  },
  {
   "cell_type": "code",
   "execution_count": 64,
   "metadata": {},
   "outputs": [
    {
     "data": {
      "text/plain": [
       "\"C:\\\\Users\\\\georg\\\\Documents\\\\projekte-doc\\\\GS-Reconcile\\\\Domherren-Abgleich-GS.csv\""
      ]
     },
     "execution_count": 64,
     "metadata": {},
     "output_type": "execute_result"
    }
   ],
   "source": [
    "filename = \"C:\\\\Users\\\\georg\\\\Documents\\\\projekte-doc\\\\GS-Reconcile\\\\Domherren-Abgleich-GS.csv\""
   ]
  },
  {
   "cell_type": "code",
   "execution_count": 65,
   "metadata": {},
   "outputs": [
    {
     "data": {
      "text/plain": [
       "\"C:\\\\Users\\\\georg\\\\Documents\\\\projekte-doc\\\\GS-Reconcile\\\\Domherren-Abgleich-GS.csv\""
      ]
     },
     "execution_count": 65,
     "metadata": {},
     "output_type": "execute_result"
    }
   ],
   "source": [
    "CSV.write(filename, df_gs_t1)"
   ]
  },
  {
   "cell_type": "code",
   "execution_count": null,
   "metadata": {},
   "outputs": [],
   "source": []
  }
 ],
 "metadata": {
  "kernelspec": {
   "display_name": "Julia 1.7.0",
   "language": "julia",
   "name": "julia-1.7"
  },
  "language_info": {
   "file_extension": ".jl",
   "mimetype": "application/julia",
   "name": "julia",
   "version": "1.7.0"
  }
 },
 "nbformat": 4,
 "nbformat_minor": 4
}
